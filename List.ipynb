{
  "nbformat": 4,
  "nbformat_minor": 0,
  "metadata": {
    "colab": {
      "provenance": []
    },
    "kernelspec": {
      "name": "python3",
      "display_name": "Python 3"
    },
    "language_info": {
      "name": "python"
    }
  },
  "cells": [
    {
      "cell_type": "code",
      "execution_count": null,
      "metadata": {
        "colab": {
          "base_uri": "https://localhost:8080/"
        },
        "id": "rymrXtWAQLee",
        "outputId": "94613c69-a4d5-437a-a6ed-ed9c76163bff"
      },
      "outputs": [
        {
          "output_type": "execute_result",
          "data": {
            "text/plain": [
              "list"
            ]
          },
          "metadata": {},
          "execution_count": 1
        }
      ],
      "source": [
        "# list can store any data type\n",
        "type([])"
      ]
    },
    {
      "cell_type": "code",
      "source": [
        "grocery_list = [\"milk\", \"orangea\", \"eges\", 1, 2, 4, True, 3+4j]"
      ],
      "metadata": {
        "id": "7ujHA0PZQ8zU"
      },
      "execution_count": null,
      "outputs": []
    },
    {
      "cell_type": "code",
      "source": [
        "type(grocery_list)"
      ],
      "metadata": {
        "colab": {
          "base_uri": "https://localhost:8080/"
        },
        "id": "8Ahz7MLRRqQE",
        "outputId": "852034b4-732a-46ed-e6e8-3faf95e60d67"
      },
      "execution_count": null,
      "outputs": [
        {
          "output_type": "execute_result",
          "data": {
            "text/plain": [
              "list"
            ]
          },
          "metadata": {},
          "execution_count": 3
        }
      ]
    },
    {
      "cell_type": "code",
      "source": [
        "# list are mutable\n",
        "grocery_list[0]"
      ],
      "metadata": {
        "colab": {
          "base_uri": "https://localhost:8080/",
          "height": 36
        },
        "id": "fnKWHv01RxMq",
        "outputId": "cef2ac57-d9aa-48be-e93d-027ef8f6ee98"
      },
      "execution_count": null,
      "outputs": [
        {
          "output_type": "execute_result",
          "data": {
            "text/plain": [
              "'milk'"
            ],
            "application/vnd.google.colaboratory.intrinsic+json": {
              "type": "string"
            }
          },
          "metadata": {},
          "execution_count": 5
        }
      ]
    },
    {
      "cell_type": "code",
      "source": [
        "grocery_list[-6]"
      ],
      "metadata": {
        "colab": {
          "base_uri": "https://localhost:8080/",
          "height": 36
        },
        "id": "ofDOIggcR-aS",
        "outputId": "2c5120cd-edb0-4820-cfd6-f551dced3cee"
      },
      "execution_count": null,
      "outputs": [
        {
          "output_type": "execute_result",
          "data": {
            "text/plain": [
              "'eges'"
            ],
            "application/vnd.google.colaboratory.intrinsic+json": {
              "type": "string"
            }
          },
          "metadata": {},
          "execution_count": 9
        }
      ]
    },
    {
      "cell_type": "code",
      "source": [
        "grocery_list[0:4]"
      ],
      "metadata": {
        "colab": {
          "base_uri": "https://localhost:8080/"
        },
        "id": "wTsj7a9SSQey",
        "outputId": "597e8786-6f9a-43ed-fcec-6f71be35e41f"
      },
      "execution_count": null,
      "outputs": [
        {
          "output_type": "execute_result",
          "data": {
            "text/plain": [
              "['milk', 'orangea', 'eges', 1]"
            ]
          },
          "metadata": {},
          "execution_count": 10
        }
      ]
    },
    {
      "cell_type": "code",
      "source": [
        "grocery_list[2:]"
      ],
      "metadata": {
        "colab": {
          "base_uri": "https://localhost:8080/"
        },
        "id": "1i-xzErQS-8K",
        "outputId": "9dfe6f49-56be-4ece-daee-a41dd8650f77"
      },
      "execution_count": null,
      "outputs": [
        {
          "output_type": "execute_result",
          "data": {
            "text/plain": [
              "['eges', 1, 2, 4, True, (3+4j)]"
            ]
          },
          "metadata": {},
          "execution_count": 11
        }
      ]
    },
    {
      "cell_type": "code",
      "source": [
        "grocery_list[:4]"
      ],
      "metadata": {
        "colab": {
          "base_uri": "https://localhost:8080/"
        },
        "id": "OLr6Lg7aTN7S",
        "outputId": "c03ece53-4d90-4fef-e5e7-a834cc6bd381"
      },
      "execution_count": null,
      "outputs": [
        {
          "output_type": "execute_result",
          "data": {
            "text/plain": [
              "['milk', 'orangea', 'eges', 1]"
            ]
          },
          "metadata": {},
          "execution_count": 12
        }
      ]
    },
    {
      "cell_type": "code",
      "source": [
        "grocery_list[::2]"
      ],
      "metadata": {
        "colab": {
          "base_uri": "https://localhost:8080/"
        },
        "id": "KqJIjWS8TY16",
        "outputId": "5b67e5ff-24f1-445e-d912-8705bc20c690"
      },
      "execution_count": null,
      "outputs": [
        {
          "output_type": "execute_result",
          "data": {
            "text/plain": [
              "['milk', 'eges', 2, True]"
            ]
          },
          "metadata": {},
          "execution_count": 13
        }
      ]
    },
    {
      "cell_type": "code",
      "source": [
        "grocery_list[::-1]"
      ],
      "metadata": {
        "colab": {
          "base_uri": "https://localhost:8080/"
        },
        "id": "M6oZH6OJTsHJ",
        "outputId": "7a445050-9687-4a5b-e11f-06838f36a829"
      },
      "execution_count": null,
      "outputs": [
        {
          "output_type": "execute_result",
          "data": {
            "text/plain": [
              "[(3+4j), True, 4, 2, 1, 'eges', 'orangea', 'milk']"
            ]
          },
          "metadata": {},
          "execution_count": 14
        }
      ]
    },
    {
      "cell_type": "code",
      "source": [
        "list = [\"banana\", \"orange\"]"
      ],
      "metadata": {
        "id": "JfxDVeXpUPUs"
      },
      "execution_count": null,
      "outputs": []
    },
    {
      "cell_type": "code",
      "source": [
        "list.append(\"apple\")"
      ],
      "metadata": {
        "id": "tLTf0PokVKoK"
      },
      "execution_count": null,
      "outputs": []
    },
    {
      "cell_type": "code",
      "source": [
        "list"
      ],
      "metadata": {
        "colab": {
          "base_uri": "https://localhost:8080/"
        },
        "id": "NjRQ96LjVV3R",
        "outputId": "d8add536-a862-4937-800e-2c9302f3bba0"
      },
      "execution_count": null,
      "outputs": [
        {
          "output_type": "execute_result",
          "data": {
            "text/plain": [
              "['banana', 'orange', 'apple']"
            ]
          },
          "metadata": {},
          "execution_count": 18
        }
      ]
    },
    {
      "cell_type": "code",
      "source": [
        "playlist = []\n",
        "playlist.append(\"sare jaha se achha\")\n",
        "playlist.append(\"Ae mere watan ke logon\")\n",
        "playlist.append(\"kajara re kajara re\")"
      ],
      "metadata": {
        "id": "06Rh4unQVYQq"
      },
      "execution_count": null,
      "outputs": []
    },
    {
      "cell_type": "code",
      "source": [
        "playlist"
      ],
      "metadata": {
        "colab": {
          "base_uri": "https://localhost:8080/"
        },
        "id": "bAakFeljWWlD",
        "outputId": "6552bb99-1f0a-4fa1-f2d1-c27aedfac0ca"
      },
      "execution_count": null,
      "outputs": [
        {
          "output_type": "execute_result",
          "data": {
            "text/plain": [
              "['sare jaha se achha', 'Ae mere watan ke logon', 'kajara re kajara re']"
            ]
          },
          "metadata": {},
          "execution_count": 22
        }
      ]
    },
    {
      "cell_type": "code",
      "source": [
        "playlist[2]"
      ],
      "metadata": {
        "colab": {
          "base_uri": "https://localhost:8080/",
          "height": 36
        },
        "id": "rEp1PpaAWYqJ",
        "outputId": "782a7e02-16ea-492d-e387-917e634e55fe"
      },
      "execution_count": null,
      "outputs": [
        {
          "output_type": "execute_result",
          "data": {
            "text/plain": [
              "'kajara re kajara re'"
            ],
            "application/vnd.google.colaboratory.intrinsic+json": {
              "type": "string"
            }
          },
          "metadata": {},
          "execution_count": 24
        }
      ]
    },
    {
      "cell_type": "code",
      "source": [
        "playlist[2] = \"sa re ga ma\""
      ],
      "metadata": {
        "id": "6zhDOFaiW3EI"
      },
      "execution_count": null,
      "outputs": []
    },
    {
      "cell_type": "code",
      "source": [
        "playlist"
      ],
      "metadata": {
        "colab": {
          "base_uri": "https://localhost:8080/"
        },
        "id": "RGZpUSlrXDlq",
        "outputId": "d8495d6a-164d-4bb6-adb3-918c2557f26f"
      },
      "execution_count": null,
      "outputs": [
        {
          "output_type": "execute_result",
          "data": {
            "text/plain": [
              "['sare jaha se achha', 'Ae mere watan ke logon', 'sa re ga ma']"
            ]
          },
          "metadata": {},
          "execution_count": 26
        }
      ]
    },
    {
      "cell_type": "code",
      "source": [
        "playlist.insert(1, \"banana\")  # insert object before index"
      ],
      "metadata": {
        "id": "O9k6bOLEXFno"
      },
      "execution_count": null,
      "outputs": []
    },
    {
      "cell_type": "code",
      "source": [
        "playlist"
      ],
      "metadata": {
        "colab": {
          "base_uri": "https://localhost:8080/"
        },
        "id": "z3BX2TveX17A",
        "outputId": "1fe953c6-36b2-4e2f-c8b8-758e4929826b"
      },
      "execution_count": null,
      "outputs": [
        {
          "output_type": "execute_result",
          "data": {
            "text/plain": [
              "['sare jaha se achha', 'banana', 'Ae mere watan ke logon', 'sa re ga ma']"
            ]
          },
          "metadata": {},
          "execution_count": 28
        }
      ]
    },
    {
      "cell_type": "code",
      "source": [
        "# extend >> used to append element from anothe list\n",
        "my_list = [\"Apple\", \"banana\", \"orange\"]\n",
        "brothers_list = [\"potato\", \"tomato\"]\n",
        "my_list.extend(brothers_list)"
      ],
      "metadata": {
        "id": "WVgj2WsAX33g"
      },
      "execution_count": null,
      "outputs": []
    },
    {
      "cell_type": "code",
      "source": [
        "my_list"
      ],
      "metadata": {
        "colab": {
          "base_uri": "https://localhost:8080/"
        },
        "id": "A9BQaV0pZ6Iq",
        "outputId": "6ba2f134-8fd3-4ae9-fe80-44847fe529c2"
      },
      "execution_count": null,
      "outputs": [
        {
          "output_type": "execute_result",
          "data": {
            "text/plain": [
              "['Apple', 'banana', 'orange', 'potato', 'tomato']"
            ]
          },
          "metadata": {},
          "execution_count": 32
        }
      ]
    },
    {
      "cell_type": "code",
      "source": [
        "my_list = [\"Apple\", \"banana\", \"orange\"]\n",
        "brothers_list = [\"potato\", \"tomato\"]\n",
        "brothers_list.extend(my_list)"
      ],
      "metadata": {
        "id": "iFhaQy4saEnA"
      },
      "execution_count": null,
      "outputs": []
    },
    {
      "cell_type": "code",
      "source": [
        "brothers_list"
      ],
      "metadata": {
        "colab": {
          "base_uri": "https://localhost:8080/"
        },
        "id": "7QVWGsOEaQR4",
        "outputId": "e09b1f7a-7f49-4ebb-e2f3-5cc6717a8414"
      },
      "execution_count": null,
      "outputs": [
        {
          "output_type": "execute_result",
          "data": {
            "text/plain": [
              "['potato', 'tomato', 'Apple', 'banana', 'orange']"
            ]
          },
          "metadata": {},
          "execution_count": 34
        }
      ]
    },
    {
      "cell_type": "code",
      "source": [
        "my_list"
      ],
      "metadata": {
        "colab": {
          "base_uri": "https://localhost:8080/"
        },
        "id": "vaH8nYVNaVFn",
        "outputId": "40395611-d1e9-4b72-f2b8-42a5f36ba5c0"
      },
      "execution_count": null,
      "outputs": [
        {
          "output_type": "execute_result",
          "data": {
            "text/plain": [
              "['Apple', 'banana', 'orange']"
            ]
          },
          "metadata": {},
          "execution_count": 35
        }
      ]
    },
    {
      "cell_type": "code",
      "source": [
        "# concatenate\n",
        "my_list = [\"Apple\", \"banana\", \"orange\"]\n",
        "brothers_list = [\"potato\", \"tomato\"]\n",
        "my_list + brothers_list  # will create nwe list"
      ],
      "metadata": {
        "colab": {
          "base_uri": "https://localhost:8080/"
        },
        "id": "KG3aIwmuaZRY",
        "outputId": "aa5577bd-df0f-4686-ba08-7de73b75f04b"
      },
      "execution_count": null,
      "outputs": [
        {
          "output_type": "execute_result",
          "data": {
            "text/plain": [
              "['Apple', 'banana', 'orange', 'potato', 'tomato']"
            ]
          },
          "metadata": {},
          "execution_count": 37
        }
      ]
    },
    {
      "cell_type": "code",
      "source": [
        "my_list"
      ],
      "metadata": {
        "colab": {
          "base_uri": "https://localhost:8080/"
        },
        "id": "OIwh9CYda6_h",
        "outputId": "dc03e1aa-f9b9-422c-d6f8-a4c6b7381ff4"
      },
      "execution_count": null,
      "outputs": [
        {
          "output_type": "execute_result",
          "data": {
            "text/plain": [
              "['Apple', 'banana', 'orange']"
            ]
          },
          "metadata": {},
          "execution_count": 38
        }
      ]
    },
    {
      "cell_type": "code",
      "source": [
        "brothers_list"
      ],
      "metadata": {
        "colab": {
          "base_uri": "https://localhost:8080/"
        },
        "id": "ydS_CilObGAQ",
        "outputId": "957bbe09-ed59-454d-dace-b4a741ca3aa8"
      },
      "execution_count": null,
      "outputs": [
        {
          "output_type": "execute_result",
          "data": {
            "text/plain": [
              "['potato', 'tomato']"
            ]
          },
          "metadata": {},
          "execution_count": 39
        }
      ]
    },
    {
      "cell_type": "code",
      "source": [
        "# repeatation operation\n",
        "\"*\" * 10"
      ],
      "metadata": {
        "colab": {
          "base_uri": "https://localhost:8080/",
          "height": 36
        },
        "id": "AqOpNoE2bJgI",
        "outputId": "21ec2445-ef4e-4120-8d35-303c81bed518"
      },
      "execution_count": null,
      "outputs": [
        {
          "output_type": "execute_result",
          "data": {
            "text/plain": [
              "'**********'"
            ],
            "application/vnd.google.colaboratory.intrinsic+json": {
              "type": "string"
            }
          },
          "metadata": {},
          "execution_count": 40
        }
      ]
    },
    {
      "cell_type": "code",
      "source": [
        "\"$\" * 10"
      ],
      "metadata": {
        "colab": {
          "base_uri": "https://localhost:8080/",
          "height": 36
        },
        "id": "9GWtkXq0bcrQ",
        "outputId": "eb3232d0-4e33-461e-ba09-57e89592d06b"
      },
      "execution_count": null,
      "outputs": [
        {
          "output_type": "execute_result",
          "data": {
            "text/plain": [
              "'$$$$$$$$$$'"
            ],
            "application/vnd.google.colaboratory.intrinsic+json": {
              "type": "string"
            }
          },
          "metadata": {},
          "execution_count": 42
        }
      ]
    },
    {
      "cell_type": "code",
      "source": [
        "[10] * 10"
      ],
      "metadata": {
        "colab": {
          "base_uri": "https://localhost:8080/"
        },
        "id": "WUQXpI47bijo",
        "outputId": "10daae70-0590-41fd-a340-9dbc9c9abcc3"
      },
      "execution_count": null,
      "outputs": [
        {
          "output_type": "execute_result",
          "data": {
            "text/plain": [
              "[10, 10, 10, 10, 10, 10, 10, 10, 10, 10]"
            ]
          },
          "metadata": {},
          "execution_count": 44
        }
      ]
    },
    {
      "cell_type": "code",
      "source": [
        "[1, 2, 3]*5"
      ],
      "metadata": {
        "colab": {
          "base_uri": "https://localhost:8080/"
        },
        "id": "5Vs52ZK0bwJP",
        "outputId": "4c51db73-8686-40cb-d64e-beb0b1394ab6"
      },
      "execution_count": null,
      "outputs": [
        {
          "output_type": "execute_result",
          "data": {
            "text/plain": [
              "[1, 2, 3, 1, 2, 3, 1, 2, 3, 1, 2, 3, 1, 2, 3]"
            ]
          },
          "metadata": {},
          "execution_count": 49
        }
      ]
    },
    {
      "cell_type": "code",
      "source": [
        "msg = \"your appointment is tommorrow \\n\"\n",
        "print(msg*3)"
      ],
      "metadata": {
        "colab": {
          "base_uri": "https://localhost:8080/"
        },
        "id": "vXRBWV2Ob6FQ",
        "outputId": "93d96ae1-05d7-4f89-e376-b584c1900813"
      },
      "execution_count": null,
      "outputs": [
        {
          "output_type": "stream",
          "name": "stdout",
          "text": [
            "your appointment is tommorrow \n",
            "your appointment is tommorrow \n",
            "your appointment is tommorrow \n",
            "\n"
          ]
        }
      ]
    },
    {
      "cell_type": "code",
      "source": [
        "# membership in , not in\n",
        "list = [\"Apple\", \"banana\", \"orange\"]\n",
        "\"Apple\" in list"
      ],
      "metadata": {
        "colab": {
          "base_uri": "https://localhost:8080/"
        },
        "id": "8oYyLxiCcYFJ",
        "outputId": "91c0bfa1-77ab-4166-9b61-8ab5ca74572e"
      },
      "execution_count": null,
      "outputs": [
        {
          "output_type": "execute_result",
          "data": {
            "text/plain": [
              "True"
            ]
          },
          "metadata": {},
          "execution_count": 64
        }
      ]
    },
    {
      "cell_type": "code",
      "source": [
        "\"milk\" in list"
      ],
      "metadata": {
        "colab": {
          "base_uri": "https://localhost:8080/"
        },
        "id": "7Mes5L_HeDFH",
        "outputId": "e00e7757-515a-47cf-d01c-cf89ce359ab6"
      },
      "execution_count": null,
      "outputs": [
        {
          "output_type": "execute_result",
          "data": {
            "text/plain": [
              "False"
            ]
          },
          "metadata": {},
          "execution_count": 65
        }
      ]
    },
    {
      "cell_type": "code",
      "source": [
        "\"milk\" not in list"
      ],
      "metadata": {
        "colab": {
          "base_uri": "https://localhost:8080/"
        },
        "id": "61RdcgFTfHMp",
        "outputId": "4b511040-9a42-423d-f3ac-0a5969f6c1a2"
      },
      "execution_count": null,
      "outputs": [
        {
          "output_type": "execute_result",
          "data": {
            "text/plain": [
              "True"
            ]
          },
          "metadata": {},
          "execution_count": 66
        }
      ]
    },
    {
      "cell_type": "code",
      "source": [
        "# deep copy shallow copy  >> Ask in interview\n",
        "\n",
        "# shallow copy >> value will chamge with change in other list\n",
        "grocery_list = [\"milk\", \"orangea\", \"eges\"]\n",
        "a = grocery_list"
      ],
      "metadata": {
        "id": "MLEXlfR9fLWf"
      },
      "execution_count": null,
      "outputs": []
    },
    {
      "cell_type": "code",
      "source": [
        "grocery_list"
      ],
      "metadata": {
        "colab": {
          "base_uri": "https://localhost:8080/"
        },
        "id": "kwY-tH7YhGpH",
        "outputId": "b555433e-f2d5-4bf2-ed5c-a2feb2697ba7"
      },
      "execution_count": null,
      "outputs": [
        {
          "output_type": "execute_result",
          "data": {
            "text/plain": [
              "['milk', 'orangea', 'eges']"
            ]
          },
          "metadata": {},
          "execution_count": 68
        }
      ]
    },
    {
      "cell_type": "code",
      "source": [
        "a"
      ],
      "metadata": {
        "colab": {
          "base_uri": "https://localhost:8080/"
        },
        "id": "-bliFS0ahKOv",
        "outputId": "97626cb9-6ff1-4c01-9825-1194c3e7bbde"
      },
      "execution_count": null,
      "outputs": [
        {
          "output_type": "execute_result",
          "data": {
            "text/plain": [
              "['milk', 'orangea', 'eges']"
            ]
          },
          "metadata": {},
          "execution_count": 69
        }
      ]
    },
    {
      "cell_type": "code",
      "source": [
        "grocery_list [1] = \"banana\""
      ],
      "metadata": {
        "id": "VTlJmi4phLJn"
      },
      "execution_count": null,
      "outputs": []
    },
    {
      "cell_type": "code",
      "source": [
        "grocery_list"
      ],
      "metadata": {
        "colab": {
          "base_uri": "https://localhost:8080/"
        },
        "id": "iWbs-d_9hV_e",
        "outputId": "c90e0eb1-a42e-4998-95b1-2787c006f444"
      },
      "execution_count": null,
      "outputs": [
        {
          "output_type": "execute_result",
          "data": {
            "text/plain": [
              "['milk', 'banana', 'eges']"
            ]
          },
          "metadata": {},
          "execution_count": 72
        }
      ]
    },
    {
      "cell_type": "code",
      "source": [
        "a"
      ],
      "metadata": {
        "colab": {
          "base_uri": "https://localhost:8080/"
        },
        "id": "ro9eHSFkhXtP",
        "outputId": "fe0db8b8-7838-41df-81a7-fb329a0a4aaa"
      },
      "execution_count": null,
      "outputs": [
        {
          "output_type": "execute_result",
          "data": {
            "text/plain": [
              "['milk', 'banana', 'eges']"
            ]
          },
          "metadata": {},
          "execution_count": 73
        }
      ]
    },
    {
      "cell_type": "code",
      "source": [
        "a = 1,2,3\n",
        "a= grocery_list  # shallow copy"
      ],
      "metadata": {
        "id": "XdpOaemOhbS-"
      },
      "execution_count": null,
      "outputs": []
    },
    {
      "cell_type": "code",
      "source": [
        "a"
      ],
      "metadata": {
        "colab": {
          "base_uri": "https://localhost:8080/"
        },
        "id": "mD-hSkkIiKie",
        "outputId": "7c4935f1-0e7f-473a-987b-1cf84fb02594"
      },
      "execution_count": null,
      "outputs": [
        {
          "output_type": "execute_result",
          "data": {
            "text/plain": [
              "['milk', 'banana', 'eges']"
            ]
          },
          "metadata": {},
          "execution_count": 75
        }
      ]
    },
    {
      "cell_type": "code",
      "source": [
        "# deep copy >> will not change the value in another list\n",
        "grocery_list"
      ],
      "metadata": {
        "colab": {
          "base_uri": "https://localhost:8080/"
        },
        "id": "gxvfwRu2iLl2",
        "outputId": "bbe7eea7-ddcb-4bbc-f24a-0a1651ee9e1c"
      },
      "execution_count": null,
      "outputs": [
        {
          "output_type": "execute_result",
          "data": {
            "text/plain": [
              "['milk', 'banana', 'eges']"
            ]
          },
          "metadata": {},
          "execution_count": 77
        }
      ]
    },
    {
      "cell_type": "code",
      "source": [
        "b = grocery_list.copy()  # deep copy"
      ],
      "metadata": {
        "id": "A2vwsy_mjNiR"
      },
      "execution_count": null,
      "outputs": []
    },
    {
      "cell_type": "code",
      "source": [
        "b"
      ],
      "metadata": {
        "colab": {
          "base_uri": "https://localhost:8080/"
        },
        "id": "csqcSaSGjV92",
        "outputId": "966f2769-8bef-4701-c64e-1d1fe070e7af"
      },
      "execution_count": null,
      "outputs": [
        {
          "output_type": "execute_result",
          "data": {
            "text/plain": [
              "['milk', 'banana', 'eges']"
            ]
          },
          "metadata": {},
          "execution_count": 80
        }
      ]
    },
    {
      "cell_type": "code",
      "source": [
        "b[0] = \"gas\""
      ],
      "metadata": {
        "id": "S5PgSHoojjte"
      },
      "execution_count": null,
      "outputs": []
    },
    {
      "cell_type": "code",
      "source": [
        "b"
      ],
      "metadata": {
        "colab": {
          "base_uri": "https://localhost:8080/"
        },
        "id": "Wye5QfdIjuxe",
        "outputId": "e143c083-ab2a-4ff0-ed53-180786690fa3"
      },
      "execution_count": null,
      "outputs": [
        {
          "output_type": "execute_result",
          "data": {
            "text/plain": [
              "['gas', 'banana', 'eges']"
            ]
          },
          "metadata": {},
          "execution_count": 82
        }
      ]
    },
    {
      "cell_type": "code",
      "source": [
        "grocery_list"
      ],
      "metadata": {
        "colab": {
          "base_uri": "https://localhost:8080/"
        },
        "id": "lUAzuhGHjwst",
        "outputId": "71e4336c-77b8-4bfd-b518-4f4debb7a59f"
      },
      "execution_count": null,
      "outputs": [
        {
          "output_type": "execute_result",
          "data": {
            "text/plain": [
              "['milk', 'banana', 'eges']"
            ]
          },
          "metadata": {},
          "execution_count": 83
        }
      ]
    },
    {
      "cell_type": "code",
      "source": [
        "# sorting list\n",
        "lis = [\"bata\", \"apple\", \"samsung\", \"nokia\"]\n",
        "a.sort()"
      ],
      "metadata": {
        "id": "K6IWff5Hjy0N"
      },
      "execution_count": null,
      "outputs": []
    },
    {
      "cell_type": "code",
      "source": [
        "lis"
      ],
      "metadata": {
        "colab": {
          "base_uri": "https://localhost:8080/"
        },
        "id": "5W9n3K4ullYf",
        "outputId": "3a09f441-d3c9-4b33-e6cf-de1cdb3212dc"
      },
      "execution_count": null,
      "outputs": [
        {
          "output_type": "execute_result",
          "data": {
            "text/plain": [
              "['bata', 'apple', 'samsung', 'nokia']"
            ]
          },
          "metadata": {},
          "execution_count": 110
        }
      ]
    },
    {
      "cell_type": "code",
      "source": [
        "lis = [\"bata\", \"apple\", \"samsung\", \"nokia\", \"bata\"]\n",
        "sorted(a)"
      ],
      "metadata": {
        "colab": {
          "base_uri": "https://localhost:8080/"
        },
        "id": "0VU701mSlTUW",
        "outputId": "aed3c3a5-fdf4-4b21-bf47-123511cac7ca"
      },
      "execution_count": null,
      "outputs": [
        {
          "output_type": "execute_result",
          "data": {
            "text/plain": [
              "['apple', 'bata', 'nokia', 'samsung']"
            ]
          },
          "metadata": {},
          "execution_count": 111
        }
      ]
    },
    {
      "cell_type": "code",
      "source": [
        "lis.index (\"nokia\")"
      ],
      "metadata": {
        "colab": {
          "base_uri": "https://localhost:8080/"
        },
        "id": "E5Xe1fmnlUvm",
        "outputId": "982fd040-ad55-417e-d1cd-a5bf3c8dc826"
      },
      "execution_count": null,
      "outputs": [
        {
          "output_type": "execute_result",
          "data": {
            "text/plain": [
              "3"
            ]
          },
          "metadata": {},
          "execution_count": 112
        }
      ]
    },
    {
      "cell_type": "code",
      "source": [
        "len(lis) # number of elements in the list"
      ],
      "metadata": {
        "colab": {
          "base_uri": "https://localhost:8080/"
        },
        "id": "CVVFbpeXloBF",
        "outputId": "63b9ba8e-3d6e-4359-b2bf-5e43af8160cf"
      },
      "execution_count": null,
      "outputs": [
        {
          "output_type": "execute_result",
          "data": {
            "text/plain": [
              "5"
            ]
          },
          "metadata": {},
          "execution_count": 113
        }
      ]
    },
    {
      "cell_type": "code",
      "source": [
        "lis.count(\"bata\") # count gives the count of a specific elementnin a list"
      ],
      "metadata": {
        "colab": {
          "base_uri": "https://localhost:8080/"
        },
        "id": "DcEKMmeAmXq9",
        "outputId": "874b4491-d8f5-450d-b44e-646f83735988"
      },
      "execution_count": null,
      "outputs": [
        {
          "output_type": "execute_result",
          "data": {
            "text/plain": [
              "2"
            ]
          },
          "metadata": {},
          "execution_count": 114
        }
      ]
    },
    {
      "cell_type": "code",
      "source": [
        "a.remove(\"bata\")"
      ],
      "metadata": {
        "id": "rvN-HhL_m-K1"
      },
      "execution_count": null,
      "outputs": []
    },
    {
      "cell_type": "code",
      "source": [
        "lis"
      ],
      "metadata": {
        "colab": {
          "base_uri": "https://localhost:8080/"
        },
        "id": "WRpvfdwgnYI-",
        "outputId": "ed1c5898-83d6-4180-d168-197e49622887"
      },
      "execution_count": null,
      "outputs": [
        {
          "output_type": "execute_result",
          "data": {
            "text/plain": [
              "['bata', 'apple', 'samsung', 'nokia', 'bata']"
            ]
          },
          "metadata": {},
          "execution_count": 115
        }
      ]
    },
    {
      "cell_type": "code",
      "source": [
        "del lis  # it delete the list"
      ],
      "metadata": {
        "id": "uj72Je_vnZAF"
      },
      "execution_count": null,
      "outputs": []
    },
    {
      "cell_type": "code",
      "source": [
        "lis"
      ],
      "metadata": {
        "colab": {
          "base_uri": "https://localhost:8080/",
          "height": 141
        },
        "id": "AXC150wfoPoF",
        "outputId": "bb836c20-305b-472f-8f7f-03d172cd3f98"
      },
      "execution_count": null,
      "outputs": [
        {
          "output_type": "error",
          "ename": "NameError",
          "evalue": "name 'lis' is not defined",
          "traceback": [
            "\u001b[0;31m---------------------------------------------------------------------------\u001b[0m",
            "\u001b[0;31mNameError\u001b[0m                                 Traceback (most recent call last)",
            "\u001b[0;32m<ipython-input-118-62a5a82c4d4e>\u001b[0m in \u001b[0;36m<cell line: 1>\u001b[0;34m()\u001b[0m\n\u001b[0;32m----> 1\u001b[0;31m \u001b[0mlis\u001b[0m\u001b[0;34m\u001b[0m\u001b[0;34m\u001b[0m\u001b[0m\n\u001b[0m",
            "\u001b[0;31mNameError\u001b[0m: name 'lis' is not defined"
          ]
        }
      ]
    },
    {
      "cell_type": "code",
      "source": [
        " lis = [\"bata\", \"apple\", \"samsung\", \"nokia\"]\n",
        " lis.clear()  #it delete the elements of a list, but variable list will not be deleted"
      ],
      "metadata": {
        "id": "I_U3B9FToXJV"
      },
      "execution_count": null,
      "outputs": []
    },
    {
      "cell_type": "code",
      "source": [
        "lis"
      ],
      "metadata": {
        "colab": {
          "base_uri": "https://localhost:8080/"
        },
        "id": "fMC9JN8rpPZd",
        "outputId": "24f5cf89-95eb-444c-de95-09407dc7cc1b"
      },
      "execution_count": null,
      "outputs": [
        {
          "output_type": "execute_result",
          "data": {
            "text/plain": [
              "[]"
            ]
          },
          "metadata": {},
          "execution_count": 125
        }
      ]
    },
    {
      "cell_type": "code",
      "source": [
        " lis = [\"bata\", \"apple\", \"samsung\", \"nokia\"]\n",
        " lis.pop()  # it delete the last element of a list"
      ],
      "metadata": {
        "colab": {
          "base_uri": "https://localhost:8080/",
          "height": 36
        },
        "id": "1omKFsZ2pRAk",
        "outputId": "8c66a00f-0425-4d29-da53-8fe0392c38ce"
      },
      "execution_count": null,
      "outputs": [
        {
          "output_type": "execute_result",
          "data": {
            "text/plain": [
              "'nokia'"
            ],
            "application/vnd.google.colaboratory.intrinsic+json": {
              "type": "string"
            }
          },
          "metadata": {},
          "execution_count": 128
        }
      ]
    },
    {
      "cell_type": "code",
      "source": [
        "lis"
      ],
      "metadata": {
        "colab": {
          "base_uri": "https://localhost:8080/"
        },
        "id": "fwBNogiDp7KW",
        "outputId": "f403535e-e4c3-4b40-b66c-cf85ff110150"
      },
      "execution_count": null,
      "outputs": [
        {
          "output_type": "execute_result",
          "data": {
            "text/plain": [
              "['bata', 'apple', 'samsung']"
            ]
          },
          "metadata": {},
          "execution_count": 129
        }
      ]
    },
    {
      "cell_type": "code",
      "source": [
        "lis.pop(1)"
      ],
      "metadata": {
        "colab": {
          "base_uri": "https://localhost:8080/",
          "height": 36
        },
        "id": "0JQSfxkgp9Ss",
        "outputId": "aedf2f66-804b-4bbd-b7bf-2a3737741891"
      },
      "execution_count": null,
      "outputs": [
        {
          "output_type": "execute_result",
          "data": {
            "text/plain": [
              "'apple'"
            ],
            "application/vnd.google.colaboratory.intrinsic+json": {
              "type": "string"
            }
          },
          "metadata": {},
          "execution_count": 130
        }
      ]
    },
    {
      "cell_type": "code",
      "source": [
        "lis"
      ],
      "metadata": {
        "colab": {
          "base_uri": "https://localhost:8080/"
        },
        "id": "Iud9EU7rqRTL",
        "outputId": "80734f22-50b7-4190-c38d-95d002691cb2"
      },
      "execution_count": null,
      "outputs": [
        {
          "output_type": "execute_result",
          "data": {
            "text/plain": [
              "['bata', 'samsung']"
            ]
          },
          "metadata": {},
          "execution_count": 131
        }
      ]
    },
    {
      "cell_type": "code",
      "source": [
        "# list comparission >> consize code"
      ],
      "metadata": {
        "id": "RYPrxYPYyYKL"
      },
      "execution_count": null,
      "outputs": []
    },
    {
      "cell_type": "code",
      "source": [
        "price = [10, 20, 30,40,50,60 ]\n",
        "double_price = []\n",
        "for item in price:\n",
        "    double_price.append(item*2)"
      ],
      "metadata": {
        "id": "CPe2UVN4qTM0"
      },
      "execution_count": 2,
      "outputs": []
    },
    {
      "cell_type": "code",
      "source": [
        "double_price"
      ],
      "metadata": {
        "colab": {
          "base_uri": "https://localhost:8080/"
        },
        "id": "WdO7IUsiyo1j",
        "outputId": "11960b7f-8185-4a6a-d02b-c4869891a40f"
      },
      "execution_count": 4,
      "outputs": [
        {
          "output_type": "execute_result",
          "data": {
            "text/plain": [
              "[20, 40, 60, 80, 100, 120]"
            ]
          },
          "metadata": {},
          "execution_count": 4
        }
      ]
    },
    {
      "cell_type": "code",
      "source": [
        "[item *2 for item in price]  # one lin ecode"
      ],
      "metadata": {
        "colab": {
          "base_uri": "https://localhost:8080/"
        },
        "id": "g6umqMBIytVJ",
        "outputId": "9b531ec2-6069-4674-8a20-06f6400c28ac"
      },
      "execution_count": 8,
      "outputs": [
        {
          "output_type": "execute_result",
          "data": {
            "text/plain": [
              "[20, 40, 60, 80, 100, 120]"
            ]
          },
          "metadata": {},
          "execution_count": 8
        }
      ]
    },
    {
      "cell_type": "code",
      "source": [
        "price = [10, 20, 30,40,50,60 ]\n",
        "double_price = []\n",
        "for i in price:\n",
        "  double_price.append(i*2)"
      ],
      "metadata": {
        "id": "VjBErYWEzUNO"
      },
      "execution_count": 9,
      "outputs": []
    },
    {
      "cell_type": "code",
      "source": [
        "double_price"
      ],
      "metadata": {
        "colab": {
          "base_uri": "https://localhost:8080/"
        },
        "id": "bdw76gnO0Pby",
        "outputId": "6daa4265-affe-4357-8dd4-887e0235bd64"
      },
      "execution_count": 10,
      "outputs": [
        {
          "output_type": "execute_result",
          "data": {
            "text/plain": [
              "[20, 40, 60, 80, 100, 120]"
            ]
          },
          "metadata": {},
          "execution_count": 10
        }
      ]
    },
    {
      "cell_type": "code",
      "source": [
        "name = [\"nikhil\", \"shyam\", \"ram\", \"vijay\"]\n",
        "[item.capitalize() for item in name]"
      ],
      "metadata": {
        "colab": {
          "base_uri": "https://localhost:8080/"
        },
        "id": "NdxXX8K40SlJ",
        "outputId": "0f48e3a8-9c28-46ee-f709-53b80ed77067"
      },
      "execution_count": 15,
      "outputs": [
        {
          "output_type": "execute_result",
          "data": {
            "text/plain": [
              "['Nikhil', 'Shyam', 'Ram', 'Vijay']"
            ]
          },
          "metadata": {},
          "execution_count": 15
        }
      ]
    },
    {
      "cell_type": "code",
      "source": [
        "#use case\n",
        "numbers = [1, 2, 3, 4, 5, 6]\n",
        "[num**2 for num in numbers]"
      ],
      "metadata": {
        "colab": {
          "base_uri": "https://localhost:8080/"
        },
        "id": "AYqhPi8S1GHb",
        "outputId": "314f6758-10d7-4ce3-a6d9-c0112907ed9b"
      },
      "execution_count": 18,
      "outputs": [
        {
          "output_type": "execute_result",
          "data": {
            "text/plain": [
              "[1, 4, 9, 16, 25, 36]"
            ]
          },
          "metadata": {},
          "execution_count": 18
        }
      ]
    },
    {
      "cell_type": "code",
      "source": [
        "str = \"doc.ppt\"\n",
        "str.split('.')[-1]"
      ],
      "metadata": {
        "colab": {
          "base_uri": "https://localhost:8080/",
          "height": 36
        },
        "id": "uPODp3ZZ1eEx",
        "outputId": "80bc9e4d-9e2c-4061-838d-5e2b64ca5e67"
      },
      "execution_count": 23,
      "outputs": [
        {
          "output_type": "execute_result",
          "data": {
            "text/plain": [
              "'ppt'"
            ],
            "application/vnd.google.colaboratory.intrinsic+json": {
              "type": "string"
            }
          },
          "metadata": {},
          "execution_count": 23
        }
      ]
    },
    {
      "cell_type": "code",
      "source": [
        "file = [\"doc.ppt\", \"doc1.pdf\", \"doc2.jpg\", \"doc3.py\"]\n",
        "[item.split(\".\")[-1] for item in file]"
      ],
      "metadata": {
        "colab": {
          "base_uri": "https://localhost:8080/"
        },
        "id": "RD1RHUDn4VL2",
        "outputId": "2537d6dc-53ab-4924-a008-d84741f21406"
      },
      "execution_count": 25,
      "outputs": [
        {
          "output_type": "execute_result",
          "data": {
            "text/plain": [
              "['ppt', 'pdf', 'jpg', 'py']"
            ]
          },
          "metadata": {},
          "execution_count": 25
        }
      ]
    },
    {
      "cell_type": "code",
      "source": [
        "# conditional list comprehension\n",
        "email_address = [ \"nd@gmail.com\", \"sj@yahoo.com\", \"rj@gmail.com\", \"kk@yahoo.com\"]\n",
        "[email for email in email_address if email.endswith(\"@gmail.com\")]"
      ],
      "metadata": {
        "colab": {
          "base_uri": "https://localhost:8080/"
        },
        "id": "kInTu8Aa5Wke",
        "outputId": "0b57bf43-00e7-4945-8027-7b881429e678"
      },
      "execution_count": 27,
      "outputs": [
        {
          "output_type": "execute_result",
          "data": {
            "text/plain": [
              "['nd@gmail.com', 'rj@gmail.com']"
            ]
          },
          "metadata": {},
          "execution_count": 27
        }
      ]
    },
    {
      "cell_type": "code",
      "source": [
        "# nasted list comprehension"
      ],
      "metadata": {
        "id": "tEYsYlS_7JMf"
      },
      "execution_count": null,
      "outputs": []
    },
    {
      "cell_type": "code",
      "source": [
        "pairs =[]\n",
        "for x in [1,2,3]:\n",
        "  for y in [4,5,6]:\n",
        "    pairs.append([x,y])\n",
        "pairs"
      ],
      "metadata": {
        "colab": {
          "base_uri": "https://localhost:8080/"
        },
        "id": "2jDNvDVu7o8F",
        "outputId": "bc9dd673-8e94-4b23-a684-ec70aa29c754"
      },
      "execution_count": 28,
      "outputs": [
        {
          "output_type": "execute_result",
          "data": {
            "text/plain": [
              "[[1, 4], [1, 5], [1, 6], [2, 4], [2, 5], [2, 6], [3, 4], [3, 5], [3, 6]]"
            ]
          },
          "metadata": {},
          "execution_count": 28
        }
      ]
    },
    {
      "cell_type": "code",
      "source": [
        "[[x,y] for x in [1,2,3] for y in [4,5,6]]  #single line code"
      ],
      "metadata": {
        "colab": {
          "base_uri": "https://localhost:8080/"
        },
        "id": "sxst4lYM7pSP",
        "outputId": "dc5372bd-e9f5-4be0-9bb8-5b2234acb32c"
      },
      "execution_count": 29,
      "outputs": [
        {
          "output_type": "execute_result",
          "data": {
            "text/plain": [
              "[[1, 4], [1, 5], [1, 6], [2, 4], [2, 5], [2, 6], [3, 4], [3, 5], [3, 6]]"
            ]
          },
          "metadata": {},
          "execution_count": 29
        }
      ]
    },
    {
      "cell_type": "code",
      "source": [
        "# Optional part"
      ],
      "metadata": {
        "id": "ZhkUfWuKIki5"
      },
      "execution_count": null,
      "outputs": []
    },
    {
      "cell_type": "code",
      "source": [
        "# stack  >> it follows LIFO (last in first out)\n",
        "#only one end\n",
        "item = []\n",
        "item.append(\"banana\")\n",
        "item.append(\"apple\")\n",
        "item.append(\"orange\")\n",
        "item.append(\"mango\")"
      ],
      "metadata": {
        "id": "-l7J1cL97ph6"
      },
      "execution_count": 30,
      "outputs": []
    },
    {
      "cell_type": "code",
      "source": [
        "item"
      ],
      "metadata": {
        "colab": {
          "base_uri": "https://localhost:8080/"
        },
        "id": "M8_hU3re_2nG",
        "outputId": "b736a344-d895-4a4e-d615-5d6fcaa6a4e7"
      },
      "execution_count": 31,
      "outputs": [
        {
          "output_type": "execute_result",
          "data": {
            "text/plain": [
              "['banana', 'apple', 'orange', 'mango']"
            ]
          },
          "metadata": {},
          "execution_count": 31
        }
      ]
    },
    {
      "cell_type": "code",
      "source": [
        "item.pop()   # remove last item in list >> LIFO (last in first out)"
      ],
      "metadata": {
        "colab": {
          "base_uri": "https://localhost:8080/",
          "height": 36
        },
        "id": "01I6yzXg_4L2",
        "outputId": "b9062cb8-99b5-4a34-b4c4-a1960ef17909"
      },
      "execution_count": 32,
      "outputs": [
        {
          "output_type": "execute_result",
          "data": {
            "text/plain": [
              "'mango'"
            ],
            "application/vnd.google.colaboratory.intrinsic+json": {
              "type": "string"
            }
          },
          "metadata": {},
          "execution_count": 32
        }
      ]
    },
    {
      "cell_type": "code",
      "source": [
        "item"
      ],
      "metadata": {
        "colab": {
          "base_uri": "https://localhost:8080/"
        },
        "id": "Lz3ijL8h_6su",
        "outputId": "b6352ab5-8129-4d0a-bab6-84f3eb7f5ea7"
      },
      "execution_count": 33,
      "outputs": [
        {
          "output_type": "execute_result",
          "data": {
            "text/plain": [
              "['banana', 'apple', 'orange']"
            ]
          },
          "metadata": {},
          "execution_count": 33
        }
      ]
    },
    {
      "cell_type": "code",
      "source": [
        "# Queue  >> it follows FIFO (fisrt in first out)\n",
        "#it work in ordely sequential manner\n",
        "#it has two ends"
      ],
      "metadata": {
        "id": "xhEyDSBQAQO-"
      },
      "execution_count": null,
      "outputs": []
    },
    {
      "cell_type": "code",
      "source": [
        "from collections import deque\n",
        "#library is a collection of python code(module)\n",
        "#collection is a library and deque is module"
      ],
      "metadata": {
        "id": "igSG_HAgEY1O"
      },
      "execution_count": 35,
      "outputs": []
    },
    {
      "cell_type": "code",
      "source": [
        "check = deque()\n",
        "check.append(\"cus1\")\n",
        "check.append(\"cus2\")\n",
        "check.append(\"cus3\")\n",
        "check.append(\"cus4\")"
      ],
      "metadata": {
        "id": "8_bZhd2pEsdf"
      },
      "execution_count": 36,
      "outputs": []
    },
    {
      "cell_type": "code",
      "source": [
        "check"
      ],
      "metadata": {
        "colab": {
          "base_uri": "https://localhost:8080/"
        },
        "id": "8fUvAz69FBN9",
        "outputId": "606c4650-6cb3-4e4c-f8bf-75d5f6d97fd4"
      },
      "execution_count": 37,
      "outputs": [
        {
          "output_type": "execute_result",
          "data": {
            "text/plain": [
              "deque(['cus1', 'cus2', 'cus3', 'cus4'])"
            ]
          },
          "metadata": {},
          "execution_count": 37
        }
      ]
    },
    {
      "cell_type": "code",
      "source": [
        "while check:\n",
        "  customer = check.popleft()\n",
        "  print(customer)"
      ],
      "metadata": {
        "colab": {
          "base_uri": "https://localhost:8080/"
        },
        "id": "fSgCyXgZFDCN",
        "outputId": "515764ae-10ab-4de2-8add-515a46150b15"
      },
      "execution_count": 38,
      "outputs": [
        {
          "output_type": "stream",
          "name": "stdout",
          "text": [
            "cus1\n",
            "cus2\n",
            "cus3\n",
            "cus4\n"
          ]
        }
      ]
    },
    {
      "cell_type": "code",
      "source": [
        "from queue import Queue\n",
        "print_queue = Queue()\n",
        "print_queue.put(\"print 1 nikhil\")  # put is similar to append/push\n",
        "print_queue.put(\"print 2 shyam\")\n",
        "print_queue.put(\"print 3 ram\")\n",
        "print_queue.put(\"print 4 vijay\")\n",
        "\n",
        "while not print_queue.empty():\n",
        "  print_job = print_queue.get()  # get is similar to pop\n",
        "  print(\"printing\", print_job)"
      ],
      "metadata": {
        "colab": {
          "base_uri": "https://localhost:8080/"
        },
        "id": "s30AwvFpFWd1",
        "outputId": "d97bad0d-d3e1-4236-8989-b90407ff56ef"
      },
      "execution_count": 42,
      "outputs": [
        {
          "output_type": "stream",
          "name": "stdout",
          "text": [
            "printing print 1 nikhil\n",
            "printing print 2 shyam\n",
            "printing print 3 ram\n",
            "printing print 4 vijay\n"
          ]
        }
      ]
    },
    {
      "cell_type": "code",
      "source": [],
      "metadata": {
        "id": "d5JTil_bHe13"
      },
      "execution_count": null,
      "outputs": []
    }
  ]
}
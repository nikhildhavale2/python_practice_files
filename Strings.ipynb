{
  "nbformat": 4,
  "nbformat_minor": 0,
  "metadata": {
    "colab": {
      "provenance": []
    },
    "kernelspec": {
      "name": "python3",
      "display_name": "Python 3"
    },
    "language_info": {
      "name": "python"
    }
  },
  "cells": [
    {
      "cell_type": "code",
      "execution_count": 1,
      "metadata": {
        "id": "LcRUPrvIoC3O"
      },
      "outputs": [],
      "source": [
        "#strings\n",
        "string1 = \"pwskills\"\n",
        "string2 = 'pwskills'"
      ]
    },
    {
      "cell_type": "code",
      "source": [
        "string1"
      ],
      "metadata": {
        "colab": {
          "base_uri": "https://localhost:8080/",
          "height": 36
        },
        "id": "ns-BzbJuoo0N",
        "outputId": "de32165d-b158-41c8-d095-05df03c60d63"
      },
      "execution_count": 2,
      "outputs": [
        {
          "output_type": "execute_result",
          "data": {
            "text/plain": [
              "'pwskills'"
            ],
            "application/vnd.google.colaboratory.intrinsic+json": {
              "type": "string"
            }
          },
          "metadata": {},
          "execution_count": 2
        }
      ]
    },
    {
      "cell_type": "code",
      "source": [
        "string2"
      ],
      "metadata": {
        "colab": {
          "base_uri": "https://localhost:8080/",
          "height": 36
        },
        "id": "KtSZH9JFouQT",
        "outputId": "98733a2c-03dd-4f55-a6e9-3a2f10c82e6f"
      },
      "execution_count": 3,
      "outputs": [
        {
          "output_type": "execute_result",
          "data": {
            "text/plain": [
              "'pwskills'"
            ],
            "application/vnd.google.colaboratory.intrinsic+json": {
              "type": "string"
            }
          },
          "metadata": {},
          "execution_count": 3
        }
      ]
    },
    {
      "cell_type": "code",
      "source": [
        "type(string1)"
      ],
      "metadata": {
        "colab": {
          "base_uri": "https://localhost:8080/"
        },
        "id": "ssjQYXH5pDha",
        "outputId": "e898a268-d36e-430e-cee1-76fe929eef90"
      },
      "execution_count": 4,
      "outputs": [
        {
          "output_type": "execute_result",
          "data": {
            "text/plain": [
              "str"
            ]
          },
          "metadata": {},
          "execution_count": 4
        }
      ]
    },
    {
      "cell_type": "code",
      "source": [
        "#it will theow an error\n",
        "'I'm a student'"
      ],
      "metadata": {
        "colab": {
          "base_uri": "https://localhost:8080/",
          "height": 106
        },
        "id": "hNAN-5dJsZpV",
        "outputId": "bc6ca4e7-437b-4edb-ae54-98e7e2f87448"
      },
      "execution_count": 5,
      "outputs": [
        {
          "output_type": "error",
          "ename": "SyntaxError",
          "evalue": "unterminated string literal (detected at line 2) (<ipython-input-5-f2a1778ceb8f>, line 2)",
          "traceback": [
            "\u001b[0;36m  File \u001b[0;32m\"<ipython-input-5-f2a1778ceb8f>\"\u001b[0;36m, line \u001b[0;32m2\u001b[0m\n\u001b[0;31m    'I'm a student'\u001b[0m\n\u001b[0m                  ^\u001b[0m\n\u001b[0;31mSyntaxError\u001b[0m\u001b[0;31m:\u001b[0m unterminated string literal (detected at line 2)\n"
          ]
        }
      ]
    },
    {
      "cell_type": "code",
      "source": [
        "'''I'm a student\n",
        "I study in pwskills\n",
        "I am a data scientist'''"
      ],
      "metadata": {
        "id": "D-YCTcsopSgi"
      },
      "execution_count": null,
      "outputs": []
    },
    {
      "cell_type": "code",
      "source": [
        " #concatenation of strings\n",
        " \"hello\" + \" world\""
      ],
      "metadata": {
        "id": "LacZw14xr0ni"
      },
      "execution_count": null,
      "outputs": []
    },
    {
      "cell_type": "code",
      "source": [
        "string1 = \"hello\"\n",
        "string2 = \"world\"\n",
        "string1 + \" \" + string2"
      ],
      "metadata": {
        "id": "HiqLT60huEgS"
      },
      "execution_count": null,
      "outputs": []
    },
    {
      "cell_type": "code",
      "source": [
        "string1 + ',' + string2"
      ],
      "metadata": {
        "id": "gMfQmfHjuPVp"
      },
      "execution_count": null,
      "outputs": []
    },
    {
      "cell_type": "code",
      "source": [
        "string1 + ' > ' + string2"
      ],
      "metadata": {
        "id": "l48NlTH9u4Ss"
      },
      "execution_count": null,
      "outputs": []
    },
    {
      "cell_type": "code",
      "source": [
        "#Extract / sclicing of string\n",
        "a= \"Nikhil\"\n",
        "a[0]"
      ],
      "metadata": {
        "id": "bLYwXtMXvHAL"
      },
      "execution_count": null,
      "outputs": []
    },
    {
      "cell_type": "code",
      "source": [
        "a[1]"
      ],
      "metadata": {
        "id": "fZbAd4tIwSoN"
      },
      "execution_count": null,
      "outputs": []
    },
    {
      "cell_type": "code",
      "source": [
        "a[-1]"
      ],
      "metadata": {
        "id": "I5NJB4YCwWRa"
      },
      "execution_count": null,
      "outputs": []
    },
    {
      "cell_type": "code",
      "source": [
        "string1 = \"I am a student\"\n",
        "string1[0:4] # 4 is exclusive [a, b]>> it will give result b-1 index"
      ],
      "metadata": {
        "id": "eGamgd-KweQz"
      },
      "execution_count": null,
      "outputs": []
    },
    {
      "cell_type": "code",
      "source": [
        "# Except the last three characters\n",
        "a = \"pwskills\"\n",
        "a[:-3]"
      ],
      "metadata": {
        "id": "-cunyWdz50FO"
      },
      "execution_count": null,
      "outputs": []
    },
    {
      "cell_type": "code",
      "source": [
        "# you want only last characters\n",
        "string2 = \"hello world\"\n",
        "string2[-3:]"
      ],
      "metadata": {
        "id": "AUGM482uxAIb"
      },
      "execution_count": null,
      "outputs": []
    },
    {
      "cell_type": "code",
      "source": [
        "string2[0:5:1] # start:end:step"
      ],
      "metadata": {
        "id": "13PP3X3I310k"
      },
      "execution_count": null,
      "outputs": []
    },
    {
      "cell_type": "code",
      "source": [
        "string2[::]"
      ],
      "metadata": {
        "id": "6Q4Dr-gb4-Uc"
      },
      "execution_count": null,
      "outputs": []
    },
    {
      "cell_type": "code",
      "source": [
        "string2[::2]"
      ],
      "metadata": {
        "id": "U8b53Qv27b-C"
      },
      "execution_count": null,
      "outputs": []
    },
    {
      "cell_type": "code",
      "source": [
        "# reverse the string\n",
        "string2[::-1]"
      ],
      "metadata": {
        "id": "rXpGsceM6400"
      },
      "execution_count": null,
      "outputs": []
    },
    {
      "cell_type": "code",
      "source": [
        "# no of characters\n",
        "len(string2)"
      ],
      "metadata": {
        "id": "O8CJxjAs7YV6"
      },
      "execution_count": null,
      "outputs": []
    },
    {
      "cell_type": "code",
      "source": [
        "# modification of string\n",
        "s = \"I am a student\"\n",
        "s.replace(\"student\" , \"data scientist\")"
      ],
      "metadata": {
        "id": "4QL2RJDN81Z6"
      },
      "execution_count": null,
      "outputs": []
    },
    {
      "cell_type": "code",
      "source": [
        "#use cases\n",
        "text = \"BRB, TTYL, LOL\"\n",
        "text.replace(\"BRB\", \"Be right back\").replace(\"TTYL\", \"Talk to you later\").replace(\"LOL\", \"Laughing out loud\")"
      ],
      "metadata": {
        "id": "0wMBfGpZ_cMN"
      },
      "execution_count": null,
      "outputs": []
    },
    {
      "cell_type": "code",
      "source": [
        "# lower case\n",
        "text = \"I am a Student\"\n",
        "text.lower()"
      ],
      "metadata": {
        "id": "5ybG8LybAYPr"
      },
      "execution_count": null,
      "outputs": []
    },
    {
      "cell_type": "code",
      "source": [
        "text.upper()"
      ],
      "metadata": {
        "id": "CO2VBL6EB1ij"
      },
      "execution_count": null,
      "outputs": []
    },
    {
      "cell_type": "code",
      "source": [
        "# first later of each word capital\n",
        "text = \"i am a student\"\n",
        "text.title()"
      ],
      "metadata": {
        "id": "lcCEjX-wCX1K"
      },
      "execution_count": null,
      "outputs": []
    },
    {
      "cell_type": "code",
      "source": [
        "# first later capital\n",
        "text.capitalize()"
      ],
      "metadata": {
        "id": "zTPuLFTBC_Sr"
      },
      "execution_count": null,
      "outputs": []
    },
    {
      "cell_type": "code",
      "source": [
        "# convert uppercase character to lowercase and lowercase to uppercase\n",
        "text = \" I am a Student\"\n",
        "text.swapcase()"
      ],
      "metadata": {
        "id": "UkV4bkezDtFq"
      },
      "execution_count": null,
      "outputs": []
    },
    {
      "cell_type": "code",
      "source": [
        "# string searching\n",
        "text = \"I am a student\"\n",
        "\"student\" in text"
      ],
      "metadata": {
        "id": "b1OyN8quLZHs"
      },
      "execution_count": null,
      "outputs": []
    },
    {
      "cell_type": "code",
      "source": [
        "#use cases\n",
        "text = \"I am a student\"\n",
        "search_word = \"am\"\n",
        "if search_word in text:\n",
        "    print(f\"The word '{search_word}' is present in the text.\")\n",
        "else:\n",
        "    print(f\"The word '{search_word}' is not present in the text.\")"
      ],
      "metadata": {
        "id": "hNgRBz52MMK0"
      },
      "execution_count": null,
      "outputs": []
    },
    {
      "cell_type": "code",
      "source": [
        "email = \"nikhil123@gmail.com\"\n",
        "if \"@\" in email:\n",
        "    print(\"Valid email\")\n",
        "else:\n",
        "    print(\"Invalid email\")"
      ],
      "metadata": {
        "id": "yO5_myX6Mnwd"
      },
      "execution_count": null,
      "outputs": []
    },
    {
      "cell_type": "code",
      "source": [
        "document = \"some_file.pdf\"\n",
        "if \"pdf\" in document:\n",
        "    print(\"Its a pdf file\")\n",
        "else:\n",
        "    print(\"Not a pdf file\")"
      ],
      "metadata": {
        "id": "Xv4Wi_d2OAcE"
      },
      "execution_count": null,
      "outputs": []
    },
    {
      "cell_type": "code",
      "source": [
        "# comparison of string\n",
        "str1 = \"hello\"\n",
        "str2 = \"hello\"\n",
        "str1 == str2\n"
      ],
      "metadata": {
        "id": "kalRJsqBOcM0"
      },
      "execution_count": null,
      "outputs": []
    },
    {
      "cell_type": "code",
      "source": [
        "str1 = \"Hello\"\n",
        "str2 = \"hello\"\n",
        "str1 == str2"
      ],
      "metadata": {
        "id": "vZqLXOiRSfR-"
      },
      "execution_count": null,
      "outputs": []
    },
    {
      "cell_type": "code",
      "source": [
        "str1 = \"Hello\"\n",
        "str2 = \"hello\"\n",
        "str1.lower() == str2.lower()"
      ],
      "metadata": {
        "id": "AQij_3jOSqyU"
      },
      "execution_count": null,
      "outputs": []
    },
    {
      "cell_type": "code",
      "source": [
        "product_code = \"P123\"\n",
        "scaned_code = input(\"Enter the product code:\")\n",
        "if product_code == scaned_code:\n",
        "    print(\"Product is valid\")\n",
        "else:\n",
        "    print(\"Product is not valid\")"
      ],
      "metadata": {
        "id": "YcQAbpbuSzHl"
      },
      "execution_count": null,
      "outputs": []
    },
    {
      "cell_type": "code",
      "source": [
        "Laptop_brand = \"Asus\", \"Dell\", \"Acer\" , \"HP\"\n",
        "brand = input(\"Enter the laptop brand:\")\n",
        "if brand in Laptop_brand:\n",
        "    print(\"Laptop is valid\")\n",
        "else:\n",
        "    print(\"Laptop is not valid\")"
      ],
      "metadata": {
        "id": "1Bd5sDswTUwc"
      },
      "execution_count": null,
      "outputs": []
    },
    {
      "cell_type": "code",
      "source": [
        "Laptop_brand = \"Asus\", \"Dell\", \"Acer\" , \"HP\"\n",
        "brand = input(\"Enter the laptop brand:\")\n",
        "if brand in Laptop_brand:\n",
        "    print(\"Laptop is valid\")\n",
        "else:\n",
        "    print(\"Laptop is not valid\")"
      ],
      "metadata": {
        "id": "PC5sip7IVvo2"
      },
      "execution_count": null,
      "outputs": []
    },
    {
      "cell_type": "code",
      "source": [
        "# string ordering\n",
        "name = [\"Nikhil\", \"Ajay\", \"Bijay\"]\n",
        "sorted(name)"
      ],
      "metadata": {
        "id": "EkT2c1NQWFPU"
      },
      "execution_count": null,
      "outputs": []
    },
    {
      "cell_type": "code",
      "source": [
        "movies = [\"Singham\", \"3 idiot\", \"Shole\", \"PK\", \"Agnipath\", \"Bahubali\"]\n",
        "sorted(movies)"
      ],
      "metadata": {
        "id": "JlCsxZcuW-mu"
      },
      "execution_count": null,
      "outputs": []
    },
    {
      "cell_type": "code",
      "source": [
        "# common strung operatins\n",
        "a = \"          hello\"\n",
        "a"
      ],
      "metadata": {
        "id": "Bu-PmzZ1Xekk"
      },
      "execution_count": null,
      "outputs": []
    },
    {
      "cell_type": "code",
      "source": [
        "a = \"          hello\"\n",
        "a.strip()"
      ],
      "metadata": {
        "id": "Apd7GEjPZXD-"
      },
      "execution_count": null,
      "outputs": []
    },
    {
      "cell_type": "code",
      "source": [
        "row = \"Apple                \"\n",
        "row.strip()"
      ],
      "metadata": {
        "colab": {
          "base_uri": "https://localhost:8080/",
          "height": 36
        },
        "id": "rcRFccdSZd99",
        "outputId": "28b4d6b6-67f8-4307-b261-eb896f358c2d"
      },
      "execution_count": 6,
      "outputs": [
        {
          "output_type": "execute_result",
          "data": {
            "text/plain": [
              "'Apple'"
            ],
            "application/vnd.google.colaboratory.intrinsic+json": {
              "type": "string"
            }
          },
          "metadata": {},
          "execution_count": 6
        }
      ]
    },
    {
      "cell_type": "code",
      "source": [
        "# string splitting\n",
        "data = \"Nikhil, data science, student\"\n",
        "student_info = data.split(',')"
      ],
      "metadata": {
        "id": "1-8ezmA7Z5yE"
      },
      "execution_count": 7,
      "outputs": []
    },
    {
      "cell_type": "code",
      "source": [
        "student_info"
      ],
      "metadata": {
        "colab": {
          "base_uri": "https://localhost:8080/"
        },
        "id": "9pergZiPbuRc",
        "outputId": "0d95a924-d452-4c51-8528-e7de634a8e92"
      },
      "execution_count": 8,
      "outputs": [
        {
          "output_type": "execute_result",
          "data": {
            "text/plain": [
              "['Nikhil', ' data science', ' student']"
            ]
          },
          "metadata": {},
          "execution_count": 8
        }
      ]
    },
    {
      "cell_type": "code",
      "source": [
        "# Escape sequences >> special combinatin of characters used within a string\n",
        "address = \"\"\"123 sanmukha villa,\n",
        "marathalli,\n",
        "banglore\"\"\""
      ],
      "metadata": {
        "id": "0UzNeWI0cmUF"
      },
      "execution_count": 9,
      "outputs": []
    },
    {
      "cell_type": "code",
      "source": [
        "address"
      ],
      "metadata": {
        "colab": {
          "base_uri": "https://localhost:8080/",
          "height": 36
        },
        "id": "63aZIYwZhCiW",
        "outputId": "398dc6d8-2aa0-44e6-e2e5-15a7aac653d3"
      },
      "execution_count": 10,
      "outputs": [
        {
          "output_type": "execute_result",
          "data": {
            "text/plain": [
              "'123 sanmukha villa,\\nmarathalli,\\nbanglore'"
            ],
            "application/vnd.google.colaboratory.intrinsic+json": {
              "type": "string"
            }
          },
          "metadata": {},
          "execution_count": 10
        }
      ]
    },
    {
      "cell_type": "code",
      "source": [
        "print(address)"
      ],
      "metadata": {
        "colab": {
          "base_uri": "https://localhost:8080/"
        },
        "id": "ILE8KTbthZE9",
        "outputId": "4cbdc73a-3696-43e0-e11f-48dcfb66fbb0"
      },
      "execution_count": 11,
      "outputs": [
        {
          "output_type": "stream",
          "name": "stdout",
          "text": [
            "123 sanmukha villa,\n",
            "marathalli,\n",
            "banglore\n"
          ]
        }
      ]
    },
    {
      "cell_type": "code",
      "source": [
        "address1 = \"123 sanmukha villa,\\nmarathalli,\\nbanglore\""
      ],
      "metadata": {
        "id": "isIOHzpUhcxV"
      },
      "execution_count": 12,
      "outputs": []
    },
    {
      "cell_type": "code",
      "source": [
        "print(address1) #\\n >> to insert a new line"
      ],
      "metadata": {
        "colab": {
          "base_uri": "https://localhost:8080/"
        },
        "id": "lZ1pz9j5hqMF",
        "outputId": "02b3098f-7f57-4e4c-d8f1-9c1c1c3fb87f"
      },
      "execution_count": 13,
      "outputs": [
        {
          "output_type": "stream",
          "name": "stdout",
          "text": [
            "123 sanmukha villa,\n",
            "marathalli,\n",
            "banglore\n"
          ]
        }
      ]
    },
    {
      "cell_type": "code",
      "source": [
        "# \\t escape character \\t >> tab\n",
        "table = \"Name\\tAge\\tCity\\nJohn\\t25\\tNew York\\nJane\\t30\\tLondon\"\n",
        "table"
      ],
      "metadata": {
        "colab": {
          "base_uri": "https://localhost:8080/",
          "height": 36
        },
        "id": "X8n3zdfahvZl",
        "outputId": "ed1c399d-db45-4da4-fc43-5ff90a32cc4c"
      },
      "execution_count": 14,
      "outputs": [
        {
          "output_type": "execute_result",
          "data": {
            "text/plain": [
              "'Name\\tAge\\tCity\\nJohn\\t25\\tNew York\\nJane\\t30\\tLondon'"
            ],
            "application/vnd.google.colaboratory.intrinsic+json": {
              "type": "string"
            }
          },
          "metadata": {},
          "execution_count": 14
        }
      ]
    },
    {
      "cell_type": "code",
      "source": [
        "print(table)"
      ],
      "metadata": {
        "colab": {
          "base_uri": "https://localhost:8080/"
        },
        "id": "CjyOQyaVin9w",
        "outputId": "b9e48fab-cb56-41d2-c7e6-ac7394f81f1f"
      },
      "execution_count": 15,
      "outputs": [
        {
          "output_type": "stream",
          "name": "stdout",
          "text": [
            "Name\tAge\tCity\n",
            "John\t25\tNew York\n",
            "Jane\t30\tLondon\n"
          ]
        }
      ]
    },
    {
      "cell_type": "code",
      "source": [
        "file_path = \"C:\\\\Users\\\\Nikhil\\\\Documents\"\n",
        "print(file_path)"
      ],
      "metadata": {
        "colab": {
          "base_uri": "https://localhost:8080/"
        },
        "id": "3SWfbGRhiyfN",
        "outputId": "677fb3b8-7349-444c-9c2c-8a43f2e3101b"
      },
      "execution_count": 16,
      "outputs": [
        {
          "output_type": "stream",
          "name": "stdout",
          "text": [
            "C:\\Users\\Nikhil\\Documents\n"
          ]
        }
      ]
    },
    {
      "cell_type": "code",
      "source": [
        "# \\' single quote escape\n",
        "str1 = 'I\\'m a student'\n",
        "print(str1)"
      ],
      "metadata": {
        "colab": {
          "base_uri": "https://localhost:8080/"
        },
        "id": "MEJa3tYAmXPW",
        "outputId": "2fca8083-d4b0-430f-b034-8ac90fd3cb5f"
      },
      "execution_count": 17,
      "outputs": [
        {
          "output_type": "stream",
          "name": "stdout",
          "text": [
            "I'm a student\n"
          ]
        }
      ]
    },
    {
      "cell_type": "code",
      "source": [
        " # carriage return \\r >> moves the cursor to the beginning of the line\n",
        " print(\"Hello, I am \\rNikhil, I am going to delhi\")"
      ],
      "metadata": {
        "colab": {
          "base_uri": "https://localhost:8080/"
        },
        "id": "IdGgYg_AmzM0",
        "outputId": "dce463a3-c125-44bb-89b2-9126e8465899"
      },
      "execution_count": 18,
      "outputs": [
        {
          "output_type": "stream",
          "name": "stdout",
          "text": [
            "Hello, I am \rNikhil, I am going to delhi\n"
          ]
        }
      ]
    },
    {
      "cell_type": "code",
      "source": [
        "# string formatting >> creating string with placejolder for variables\n",
        "print(\"My name is Nikhil\")"
      ],
      "metadata": {
        "colab": {
          "base_uri": "https://localhost:8080/"
        },
        "id": "ckQgwPzGpZr-",
        "outputId": "cc84a9c2-7b74-478b-fbc0-892b5d37d23c"
      },
      "execution_count": 19,
      "outputs": [
        {
          "output_type": "stream",
          "name": "stdout",
          "text": [
            "My name is Nikhil\n"
          ]
        }
      ]
    },
    {
      "cell_type": "code",
      "source": [
        "name = \"Nikhil\"\n",
        "greetings = f\"hello,{name} how are you?\"\n",
        "print(greetings)"
      ],
      "metadata": {
        "colab": {
          "base_uri": "https://localhost:8080/"
        },
        "id": "s9DjFdF7pv3s",
        "outputId": "00deb7c5-7ba9-4799-b930-c5a71ea54c7d"
      },
      "execution_count": 20,
      "outputs": [
        {
          "output_type": "stream",
          "name": "stdout",
          "text": [
            "hello,Nikhil how are you?\n"
          ]
        }
      ]
    },
    {
      "cell_type": "code",
      "source": [
        "name = \"Vijay\"\n",
        "greetings = f\"hello,{name} how are you?\"\n",
        "print(greetings)"
      ],
      "metadata": {
        "colab": {
          "base_uri": "https://localhost:8080/"
        },
        "id": "kbkqTJBLqoy1",
        "outputId": "18d95744-6286-42e9-cdd4-fcd98feabb69"
      },
      "execution_count": 21,
      "outputs": [
        {
          "output_type": "stream",
          "name": "stdout",
          "text": [
            "hello,Vijay how are you?\n"
          ]
        }
      ]
    },
    {
      "cell_type": "code",
      "source": [
        "# f string (formatted string literals)\n",
        "course = \"pw data + frontend\"\n",
        "duration = 4\n",
        "f\"My course is {course} and its duration is {duration} years.\""
      ],
      "metadata": {
        "colab": {
          "base_uri": "https://localhost:8080/",
          "height": 36
        },
        "id": "x4eezPMZq6Is",
        "outputId": "d12038ed-f65a-4954-e1f9-11e0d4461752"
      },
      "execution_count": 22,
      "outputs": [
        {
          "output_type": "execute_result",
          "data": {
            "text/plain": [
              "'My course is pw data + frontend and its duration is 4 years.'"
            ],
            "application/vnd.google.colaboratory.intrinsic+json": {
              "type": "string"
            }
          },
          "metadata": {},
          "execution_count": 22
        }
      ]
    },
    {
      "cell_type": "code",
      "source": [
        "user_name = \"Ajay\"\n",
        "post_date = \"2024-08-27\"\n",
        "print(f\"Hello user, {user_name}, Today is {post_date} post.\")"
      ],
      "metadata": {
        "id": "GD2LwIastDG2",
        "colab": {
          "base_uri": "https://localhost:8080/"
        },
        "outputId": "69520fbd-7861-4645-d2b3-626f7ae196a8"
      },
      "execution_count": 23,
      "outputs": [
        {
          "output_type": "stream",
          "name": "stdout",
          "text": [
            "Hello user, Ajay, Today is 2024-08-27 post.\n"
          ]
        }
      ]
    },
    {
      "cell_type": "code",
      "source": [
        "celsius = 30\n",
        "f\"{celsius} is equals to, {(celsius * 9/5)+32}F\""
      ],
      "metadata": {
        "colab": {
          "base_uri": "https://localhost:8080/",
          "height": 36
        },
        "id": "kYeeyyMiZRo5",
        "outputId": "cefe490e-c0a7-4e02-bbed-e4bfeb113483"
      },
      "execution_count": 27,
      "outputs": [
        {
          "output_type": "execute_result",
          "data": {
            "text/plain": [
              "'30 is equals to, 86.0F'"
            ],
            "application/vnd.google.colaboratory.intrinsic+json": {
              "type": "string"
            }
          },
          "metadata": {},
          "execution_count": 27
        }
      ]
    },
    {
      "cell_type": "code",
      "source": [
        "celsius  = 25\n",
        "fahrenheit = (celsius * 9/5) + 32\n",
        "print(f\"{celsius} degrees celsius is equal to {fahrenheit} degrees fahrenheit.\")"
      ],
      "metadata": {
        "colab": {
          "base_uri": "https://localhost:8080/"
        },
        "id": "eZIBUuQUYNn7",
        "outputId": "55febf29-4332-4a6f-aa90-918b2c2d83cd"
      },
      "execution_count": 28,
      "outputs": [
        {
          "output_type": "stream",
          "name": "stdout",
          "text": [
            "25 degrees celsius is equal to 77.0 degrees fahrenheit.\n"
          ]
        }
      ]
    },
    {
      "cell_type": "code",
      "source": [
        "str1 = \"pwskills\"\n",
        "str1.startswith(\"p\")"
      ],
      "metadata": {
        "colab": {
          "base_uri": "https://localhost:8080/"
        },
        "id": "dZFxsSVBY-mc",
        "outputId": "40f89a4c-f425-4a12-cd5b-59090db2c28c"
      },
      "execution_count": 1,
      "outputs": [
        {
          "output_type": "execute_result",
          "data": {
            "text/plain": [
              "True"
            ]
          },
          "metadata": {},
          "execution_count": 1
        }
      ]
    },
    {
      "cell_type": "code",
      "source": [
        "str1.startswith(\"pws\")"
      ],
      "metadata": {
        "colab": {
          "base_uri": "https://localhost:8080/"
        },
        "id": "zZTIFOUCC6IB",
        "outputId": "85b9081d-011e-4e48-aceb-344bece9df3a"
      },
      "execution_count": 3,
      "outputs": [
        {
          "output_type": "execute_result",
          "data": {
            "text/plain": [
              "True"
            ]
          },
          "metadata": {},
          "execution_count": 3
        }
      ]
    },
    {
      "cell_type": "code",
      "source": [
        "str1.startswith(\"aws\")"
      ],
      "metadata": {
        "colab": {
          "base_uri": "https://localhost:8080/"
        },
        "id": "A-BYPGJnDCAK",
        "outputId": "8e195297-c2c6-4783-f06b-060ce9e54c85"
      },
      "execution_count": 4,
      "outputs": [
        {
          "output_type": "execute_result",
          "data": {
            "text/plain": [
              "False"
            ]
          },
          "metadata": {},
          "execution_count": 4
        }
      ]
    },
    {
      "cell_type": "code",
      "source": [
        "str1 = \"pwskills\"\n",
        "str1.endswith(\"ls\")"
      ],
      "metadata": {
        "colab": {
          "base_uri": "https://localhost:8080/"
        },
        "id": "qnsnPCKkDR_o",
        "outputId": "b46e3a9f-1efc-4f15-fb60-ab502b5788ce"
      },
      "execution_count": 5,
      "outputs": [
        {
          "output_type": "execute_result",
          "data": {
            "text/plain": [
              "True"
            ]
          },
          "metadata": {},
          "execution_count": 5
        }
      ]
    },
    {
      "cell_type": "code",
      "source": [
        "a = \"123abc\"\n",
        "a.isalnum()"
      ],
      "metadata": {
        "colab": {
          "base_uri": "https://localhost:8080/"
        },
        "id": "UCFnrOaCDeZ4",
        "outputId": "a2b6ea02-2373-4a9b-e038-cd11535435f3"
      },
      "execution_count": 6,
      "outputs": [
        {
          "output_type": "execute_result",
          "data": {
            "text/plain": [
              "True"
            ]
          },
          "metadata": {},
          "execution_count": 6
        }
      ]
    },
    {
      "cell_type": "code",
      "source": [
        "a =\"sbc\"\n",
        "a.isalnum()"
      ],
      "metadata": {
        "colab": {
          "base_uri": "https://localhost:8080/"
        },
        "id": "4b-28Za_FVPQ",
        "outputId": "b43be2c9-4c66-43a2-dcb1-d240ea468205"
      },
      "execution_count": 11,
      "outputs": [
        {
          "output_type": "execute_result",
          "data": {
            "text/plain": [
              "True"
            ]
          },
          "metadata": {},
          "execution_count": 11
        }
      ]
    },
    {
      "cell_type": "code",
      "source": [
        "a= \"123\"\n",
        "a.isdigit()"
      ],
      "metadata": {
        "colab": {
          "base_uri": "https://localhost:8080/"
        },
        "id": "oSL8By65FaO3",
        "outputId": "8f73e52e-e3ad-4f62-a075-e25d90803da5"
      },
      "execution_count": 12,
      "outputs": [
        {
          "output_type": "execute_result",
          "data": {
            "text/plain": [
              "True"
            ]
          },
          "metadata": {},
          "execution_count": 12
        }
      ]
    },
    {
      "cell_type": "code",
      "source": [
        "s = \"pwskills\"\n",
        "len(s)"
      ],
      "metadata": {
        "colab": {
          "base_uri": "https://localhost:8080/"
        },
        "id": "7sX8igwwGOD3",
        "outputId": "e63c8145-ab47-4496-8059-5fa0ded91dd5"
      },
      "execution_count": 14,
      "outputs": [
        {
          "output_type": "execute_result",
          "data": {
            "text/plain": [
              "8"
            ]
          },
          "metadata": {},
          "execution_count": 14
        }
      ]
    },
    {
      "cell_type": "code",
      "source": [
        "count = 0\n",
        "for i in s:\n",
        "    print(i)\n",
        "    count = count +1\n",
        "print(count)"
      ],
      "metadata": {
        "colab": {
          "base_uri": "https://localhost:8080/"
        },
        "id": "cVsd4gx8G5F_",
        "outputId": "c836c73d-3567-436f-fac4-1cfd4522f88d"
      },
      "execution_count": 15,
      "outputs": [
        {
          "output_type": "stream",
          "name": "stdout",
          "text": [
            "p\n",
            "w\n",
            "s\n",
            "k\n",
            "i\n",
            "l\n",
            "l\n",
            "s\n",
            "8\n"
          ]
        }
      ]
    },
    {
      "cell_type": "code",
      "source": [],
      "metadata": {
        "id": "9UObU283HlYn"
      },
      "execution_count": null,
      "outputs": []
    }
  ]
}